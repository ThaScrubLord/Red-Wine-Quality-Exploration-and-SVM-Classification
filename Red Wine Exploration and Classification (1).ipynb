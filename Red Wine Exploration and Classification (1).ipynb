{
 "cells": [
  {
   "cell_type": "code",
   "execution_count": 48,
   "metadata": {},
   "outputs": [],
   "source": [
    "import numpy as np\n",
    "import pandas as pd\n",
    "import matplotlib.pyplot as plt\n",
    "import matplotlib.pylab as pl\n",
    "import sklearn.metrics as metrics\n",
    "import seaborn as sns\n",
    "from sklearn.svm import SVC\n",
    "from sklearn.model_selection import train_test_split, StratifiedKFold, GridSearchCV, cross_validate\n",
    "from sklearn.model_selection import StratifiedShuffleSplit"
   ]
  },
  {
   "cell_type": "markdown",
   "metadata": {},
   "source": [
    "Dataset: https://www.kaggle.com/uciml/red-wine-quality-cortez-et-al-2009"
   ]
  },
  {
   "cell_type": "markdown",
   "metadata": {},
   "source": [
    "# Red Wine Quality\n",
    "\n",
    "As an individual who has just recently turned 21 I have realized how clueless I am about alcohol. I don't know anything about most alcohols and despite being Italian I know barely anything about red wine. So to expand my knowledge on the subject, what better way to expand my alcoholic palette than to perform an exporative data analysis on a Red Wine Quality data set. The dataset covers various acidity, sugars, chlorides, sulfurdioxide, density, pH, sulphates, alcohol, and finally a quality score.\n",
    "\n",
    "## I hope to explore:\n",
    "- How are quality wines different than non quality wines?\n",
    "- How do different chemical paremeters vary across different wines?\n",
    "- Are we able to predict the quality of red wine using SVM classification?\n",
    "This data frame offers so many questions that could potentially be answered. The long list of parameters that are included provide lots of valuable and important information for analysis. How do acidic wines compare to non acidic wines in terms of quality? There is so much potential.\n",
    "\n",
    "- In this project I hope to uncover important parameters in defining a quality wine.\n",
    "\n"
   ]
  },
  {
   "cell_type": "markdown",
   "metadata": {},
   "source": [
    "# Data Pre-Processing"
   ]
  },
  {
   "cell_type": "code",
   "execution_count": 49,
   "metadata": {},
   "outputs": [
    {
     "data": {
      "text/html": [
       "<div>\n",
       "<style scoped>\n",
       "    .dataframe tbody tr th:only-of-type {\n",
       "        vertical-align: middle;\n",
       "    }\n",
       "\n",
       "    .dataframe tbody tr th {\n",
       "        vertical-align: top;\n",
       "    }\n",
       "\n",
       "    .dataframe thead th {\n",
       "        text-align: right;\n",
       "    }\n",
       "</style>\n",
       "<table border=\"1\" class=\"dataframe\">\n",
       "  <thead>\n",
       "    <tr style=\"text-align: right;\">\n",
       "      <th></th>\n",
       "      <th>fixed acidity</th>\n",
       "      <th>volatile acidity</th>\n",
       "      <th>citric acid</th>\n",
       "      <th>residual sugar</th>\n",
       "      <th>chlorides</th>\n",
       "      <th>free sulfur dioxide</th>\n",
       "      <th>total sulfur dioxide</th>\n",
       "      <th>density</th>\n",
       "      <th>pH</th>\n",
       "      <th>sulphates</th>\n",
       "      <th>alcohol</th>\n",
       "      <th>quality</th>\n",
       "      <th>quality_binary</th>\n",
       "    </tr>\n",
       "  </thead>\n",
       "  <tbody>\n",
       "    <tr>\n",
       "      <th>0</th>\n",
       "      <td>7.4</td>\n",
       "      <td>0.70</td>\n",
       "      <td>0.00</td>\n",
       "      <td>1.9</td>\n",
       "      <td>0.076</td>\n",
       "      <td>11.0</td>\n",
       "      <td>34.0</td>\n",
       "      <td>0.9978</td>\n",
       "      <td>3.51</td>\n",
       "      <td>0.56</td>\n",
       "      <td>9.4</td>\n",
       "      <td>5</td>\n",
       "      <td>0</td>\n",
       "    </tr>\n",
       "    <tr>\n",
       "      <th>1</th>\n",
       "      <td>7.8</td>\n",
       "      <td>0.88</td>\n",
       "      <td>0.00</td>\n",
       "      <td>2.6</td>\n",
       "      <td>0.098</td>\n",
       "      <td>25.0</td>\n",
       "      <td>67.0</td>\n",
       "      <td>0.9968</td>\n",
       "      <td>3.20</td>\n",
       "      <td>0.68</td>\n",
       "      <td>9.8</td>\n",
       "      <td>5</td>\n",
       "      <td>0</td>\n",
       "    </tr>\n",
       "    <tr>\n",
       "      <th>2</th>\n",
       "      <td>7.8</td>\n",
       "      <td>0.76</td>\n",
       "      <td>0.04</td>\n",
       "      <td>2.3</td>\n",
       "      <td>0.092</td>\n",
       "      <td>15.0</td>\n",
       "      <td>54.0</td>\n",
       "      <td>0.9970</td>\n",
       "      <td>3.26</td>\n",
       "      <td>0.65</td>\n",
       "      <td>9.8</td>\n",
       "      <td>5</td>\n",
       "      <td>0</td>\n",
       "    </tr>\n",
       "    <tr>\n",
       "      <th>3</th>\n",
       "      <td>11.2</td>\n",
       "      <td>0.28</td>\n",
       "      <td>0.56</td>\n",
       "      <td>1.9</td>\n",
       "      <td>0.075</td>\n",
       "      <td>17.0</td>\n",
       "      <td>60.0</td>\n",
       "      <td>0.9980</td>\n",
       "      <td>3.16</td>\n",
       "      <td>0.58</td>\n",
       "      <td>9.8</td>\n",
       "      <td>6</td>\n",
       "      <td>1</td>\n",
       "    </tr>\n",
       "    <tr>\n",
       "      <th>4</th>\n",
       "      <td>7.4</td>\n",
       "      <td>0.70</td>\n",
       "      <td>0.00</td>\n",
       "      <td>1.9</td>\n",
       "      <td>0.076</td>\n",
       "      <td>11.0</td>\n",
       "      <td>34.0</td>\n",
       "      <td>0.9978</td>\n",
       "      <td>3.51</td>\n",
       "      <td>0.56</td>\n",
       "      <td>9.4</td>\n",
       "      <td>5</td>\n",
       "      <td>0</td>\n",
       "    </tr>\n",
       "  </tbody>\n",
       "</table>\n",
       "</div>"
      ],
      "text/plain": [
       "   fixed acidity  volatile acidity  citric acid  residual sugar  chlorides  \\\n",
       "0            7.4              0.70         0.00             1.9      0.076   \n",
       "1            7.8              0.88         0.00             2.6      0.098   \n",
       "2            7.8              0.76         0.04             2.3      0.092   \n",
       "3           11.2              0.28         0.56             1.9      0.075   \n",
       "4            7.4              0.70         0.00             1.9      0.076   \n",
       "\n",
       "   free sulfur dioxide  total sulfur dioxide  density    pH  sulphates  \\\n",
       "0                 11.0                  34.0   0.9978  3.51       0.56   \n",
       "1                 25.0                  67.0   0.9968  3.20       0.68   \n",
       "2                 15.0                  54.0   0.9970  3.26       0.65   \n",
       "3                 17.0                  60.0   0.9980  3.16       0.58   \n",
       "4                 11.0                  34.0   0.9978  3.51       0.56   \n",
       "\n",
       "   alcohol  quality  quality_binary  \n",
       "0      9.4        5               0  \n",
       "1      9.8        5               0  \n",
       "2      9.8        5               0  \n",
       "3      9.8        6               1  \n",
       "4      9.4        5               0  "
      ]
     },
     "execution_count": 49,
     "metadata": {},
     "output_type": "execute_result"
    }
   ],
   "source": [
    "wine = pd.read_csv('winequality-red.csv')\n",
    "wine['quality_binary']=np.where(wine['quality']>= 6, 1, 0)\n",
    "wine.head()"
   ]
  },
  {
   "cell_type": "markdown",
   "metadata": {},
   "source": [
    "## How quality red wines differ:\n",
    "\n",
    "In this section I will cover the major differences in chemical parameters between what those deem as quality wines.\n",
    "\n",
    "In my mind on a ranking scale of 10, average is 5; therefore, I defined a quality wine as one that was rated a 6 or above. From this simple classification we can begin to examine these different parameters."
   ]
  },
  {
   "cell_type": "markdown",
   "metadata": {},
   "source": [
    "## Visualizing the spread of quality among red wines."
   ]
  },
  {
   "cell_type": "code",
   "execution_count": 50,
   "metadata": {},
   "outputs": [
    {
     "data": {
      "image/png": "[encoded data removed]",
      "text/plain": [
       "<Figure size 720x504 with 1 Axes>"
      ]
     },
     "metadata": {
      "needs_background": "light"
     },
     "output_type": "display_data"
    }
   ],
   "source": [
    "fig, ax = plt.subplots(figsize =(10, 7))\n",
    "ax.hist(wine.quality, bins = 10)\n",
    "plt.xlabel(\"Wine Quality(0-10)\")\n",
    "plt.ylabel(\"Count\")\n",
    "plt.title('Spread of the quality of the red wines')  \n",
    "# Show plot\n",
    "plt.show()"
   ]
  },
  {
   "cell_type": "markdown",
   "metadata": {},
   "source": [
    "### - Now lets seperate quality wines from unquality wines in two seperate data frames."
   ]
  },
  {
   "cell_type": "code",
   "execution_count": 51,
   "metadata": {},
   "outputs": [],
   "source": [
    "quality_wine = wine.loc[wine.quality_binary==1]\n",
    "unquality_wine = wine.loc[wine.quality_binary==0]"
   ]
  },
  {
   "cell_type": "markdown",
   "metadata": {},
   "source": [
    "### - Now lets compute means for the two different data frames among each chemical parameter."
   ]
  },
  {
   "cell_type": "code",
   "execution_count": 52,
   "metadata": {},
   "outputs": [
    {
     "name": "stdout",
     "output_type": "stream",
     "text": [
      "Means of parameters for quality wines: \n",
      "\n",
      "fixed acidity            8.474035\n",
      "volatile acidity         0.474146\n",
      "citric acid              0.299883\n",
      "residual sugar           2.535965\n",
      "chlorides                0.082661\n",
      "free sulfur dioxide     15.272515\n",
      "total sulfur dioxide    39.352047\n",
      "density                  0.996467\n",
      "pH                       3.310643\n",
      "sulphates                0.692620\n",
      "alcohol                 10.855029\n",
      "quality                  6.274854\n",
      "quality_binary           1.000000\n",
      "dtype: float64\n",
      "\n",
      "Means of parameters for unquality wines: \n",
      "\n",
      "fixed acidity            8.142204\n",
      "volatile acidity         0.589503\n",
      "citric acid              0.237755\n",
      "residual sugar           2.542070\n",
      "chlorides                0.092989\n",
      "free sulfur dioxide     16.567204\n",
      "total sulfur dioxide    54.645161\n",
      "density                  0.997068\n",
      "pH                       3.311653\n",
      "sulphates                0.618535\n",
      "alcohol                  9.926478\n",
      "quality                  4.901882\n",
      "quality_binary           0.000000\n",
      "dtype: float64\n"
     ]
    }
   ],
   "source": [
    "print(\"Means of parameters for quality wines: \\n\")\n",
    "print(quality_wine.mean())\n",
    "print(\"\\nMeans of parameters for unquality wines: \\n\")\n",
    "print(unquality_wine.mean())"
   ]
  },
  {
   "cell_type": "markdown",
   "metadata": {},
   "source": [
    "Now these values have a lot of numbers and it is a little hard to interpret how these mean values compare among these two data frames."
   ]
  },
  {
   "cell_type": "markdown",
   "metadata": {},
   "source": [
    "### - Now we will compare the means among these two data frames to detirmine which mean values are greater in the quality wines set."
   ]
  },
  {
   "cell_type": "code",
   "execution_count": 53,
   "metadata": {},
   "outputs": [
    {
     "name": "stdout",
     "output_type": "stream",
     "text": [
      "fixed acidity            True\n",
      "volatile acidity        False\n",
      "citric acid              True\n",
      "residual sugar          False\n",
      "chlorides               False\n",
      "free sulfur dioxide     False\n",
      "total sulfur dioxide    False\n",
      "density                 False\n",
      "pH                      False\n",
      "sulphates                True\n",
      "alcohol                  True\n",
      "quality                  True\n",
      "quality_binary           True\n",
      "dtype: bool\n"
     ]
    }
   ],
   "source": [
    "mean_wine=quality_wine.mean()>unquality_wine.mean()\n",
    "print(mean_wine)"
   ]
  },
  {
   "cell_type": "markdown",
   "metadata": {},
   "source": [
    "From this simple comparison analysis we see that fixed acidity, citric acid, sulphates, and alcohol content are all greater in the deemed \"quality\" wines. And the other paramteres have values lesser than in the quality wines. Now this really doesn't tell us much. Lets now explore with visualization."
   ]
  },
  {
   "cell_type": "markdown",
   "metadata": {},
   "source": [
    "### - Now I want to visualize these parameters compared over boxplots, to evaluate how different these markers really are.\n",
    "- Box plots are the best tool for visualizing this data as this data frame is strictly numeric, unfortunetaly because it is numeric we can not draw any interesting categorical conclusions. But boxplots summarise numeric data well."
   ]
  },
  {
   "cell_type": "markdown",
   "metadata": {},
   "source": [
    "### Starting with Acid properties:"
   ]
  },
  {
   "cell_type": "code",
   "execution_count": 54,
   "metadata": {},
   "outputs": [
    {
     "data": {
      "image/png": "[encoded data removed]",
      "text/plain": [
       "<Figure size 432x288 with 4 Axes>"
      ]
     },
     "metadata": {
      "needs_background": "light"
     },
     "output_type": "display_data"
    }
   ],
   "source": [
    "plt.subplot(1, 4, 1)\n",
    "plt.boxplot(quality_wine['fixed acidity'])\n",
    "plt.title(\"Fixed Acidity\")\n",
    "plt.xlabel('Quality ')\n",
    "plt.ylabel('PH ')\n",
    "plt.ylim([4, 16])\n",
    "\n",
    "plt.subplot(1, 4, 2)\n",
    "plt.boxplot(unquality_wine['fixed acidity'])\n",
    "plt.xlabel('Unquality ')\n",
    "plt.ylim([4, 16])\n",
    "\n",
    "\n",
    "plt.subplot(1, 4, 3)\n",
    "plt.boxplot(quality_wine['volatile acidity'])\n",
    "plt.title(\"Volatile Acidity\")\n",
    "plt.xlabel('Quality ')\n",
    "plt.ylabel('Acetic Acid(g/mL) ')\n",
    "plt.ylim([0, 1.75])\n",
    "\n",
    "\n",
    "plt.subplot(1, 4, 4)\n",
    "plt.boxplot(unquality_wine['volatile acidity'])\n",
    "plt.xlabel('Unquality ')\n",
    "plt.ylim([0, 1.75])\n",
    "\n",
    "plt.subplots_adjust(wspace=1)\n",
    "plt.show()"
   ]
  },
  {
   "cell_type": "markdown",
   "metadata": {},
   "source": [
    "So after viewing these plots of acidity we see that Fixed Acidity in the quality wine is slightly higher than that of an Unquality wine; however, it is not a big enough different to draw any immediate conclusions. On the other hand Volatile Acidity, otherwise known as the amount of Acetic acid in the wine in the unquality wines is noticeably higher than in the quality wines. Leading us to believe that wines with more Acetic acid will produce an unpleasant taste."
   ]
  },
  {
   "cell_type": "markdown",
   "metadata": {},
   "source": [
    "### Now with Citric Acid and Residual Sugar properties:"
   ]
  },
  {
   "cell_type": "code",
   "execution_count": 55,
   "metadata": {},
   "outputs": [
    {
     "data": {
      "image/png": "[encoded data removed]",
      "text/plain": [
       "<Figure size 432x288 with 4 Axes>"
      ]
     },
     "metadata": {
      "needs_background": "light"
     },
     "output_type": "display_data"
    }
   ],
   "source": [
    "plt.subplot(1, 4, 1)\n",
    "plt.boxplot(quality_wine['citric acid'])\n",
    "plt.title(\"Citric Acid\")\n",
    "plt.xlabel('Quality ')\n",
    "plt.ylabel(' Amount of citric acid (g/L) ')\n",
    "plt.ylim([0, 1])\n",
    "\n",
    "plt.subplot(1, 4, 2)\n",
    "plt.boxplot(unquality_wine['citric acid'])\n",
    "plt.xlabel('Unquality ')\n",
    "plt.ylim([0, 1])\n",
    "\n",
    "\n",
    "plt.subplot(1, 4, 3)\n",
    "plt.boxplot(quality_wine['residual sugar'])\n",
    "plt.title(\"Residual Sugar\")\n",
    "plt.xlabel('Quality ')\n",
    "plt.ylabel('Amount of residual sugar(g/L) ')\n",
    "plt.ylim([0, 10])\n",
    "\n",
    "\n",
    "plt.subplot(1, 4, 4)\n",
    "plt.boxplot(unquality_wine['residual sugar'])\n",
    "plt.xlabel('Unquality ')\n",
    "plt.ylim([0, 10])\n",
    "\n",
    "plt.subplots_adjust(wspace=1)\n",
    "plt.show()"
   ]
  },
  {
   "cell_type": "markdown",
   "metadata": {},
   "source": [
    "We see among residual sugar box plots that this marker is indescribably similar suggesting that this marker hardly has any effect the quality of a wine. We see mean rather low but lots of extrema going up. However; citric acid tells a more interesting story we see citric acid is slightly higher in the quality wines indicating that citric acid provides a sort of freshness to wine that those deem as quality."
   ]
  },
  {
   "cell_type": "markdown",
   "metadata": {},
   "source": [
    "### Now with Free and Total Sulfure Dioxide properties:"
   ]
  },
  {
   "cell_type": "code",
   "execution_count": 56,
   "metadata": {},
   "outputs": [
    {
     "data": {
      "image/png": "[encoded data removed]",
      "text/plain": [
       "<Figure size 432x288 with 4 Axes>"
      ]
     },
     "metadata": {
      "needs_background": "light"
     },
     "output_type": "display_data"
    }
   ],
   "source": [
    "plt.subplot(1, 4, 1)\n",
    "plt.boxplot(quality_wine['free sulfur dioxide'])\n",
    "plt.title(\"Free Sulfur Dioxide\")\n",
    "plt.xlabel('Quality ')\n",
    "plt.ylabel(' SO2(mg/L) ')\n",
    "plt.ylim([0, 72])\n",
    "\n",
    "plt.subplot(1, 4, 2)\n",
    "plt.boxplot(unquality_wine['free sulfur dioxide'])\n",
    "plt.xlabel('Unquality ')\n",
    "plt.ylim([0, 72])\n",
    "\n",
    "\n",
    "plt.subplot(1, 4, 3)\n",
    "plt.boxplot(quality_wine['total sulfur dioxide'])\n",
    "plt.title(\"Total Sulfur Dioxide\")\n",
    "plt.xlabel('Quality ')\n",
    "plt.ylabel('SO2(mg/L) ')\n",
    "plt.ylim([0, 290])\n",
    "\n",
    "\n",
    "plt.subplot(1, 4, 4)\n",
    "plt.boxplot(unquality_wine['total sulfur dioxide'])\n",
    "plt.xlabel('Unquality ')\n",
    "plt.ylim([0, 290])\n",
    "\n",
    "plt.subplots_adjust(wspace=1)\n",
    "plt.show()"
   ]
  },
  {
   "cell_type": "markdown",
   "metadata": {},
   "source": [
    "In these plots we see that the presence of sulfur dioxide in wine tends to lead to a poor taste. Free Sulfur Dioxide is the SO2 that is unbound to the actually liquid molecules in the wine, and Total SO2 is all of the SO2 in the wine. Both high levels may be considered to have a negative effect on the taste of wine.\n",
    "\n",
    "### Now with Chlorides and Alcohol properties:"
   ]
  },
  {
   "cell_type": "code",
   "execution_count": 57,
   "metadata": {},
   "outputs": [
    {
     "data": {
      "image/png": "[encoded data removed]",
      "text/plain": [
       "<Figure size 432x288 with 4 Axes>"
      ]
     },
     "metadata": {
      "needs_background": "light"
     },
     "output_type": "display_data"
    }
   ],
   "source": [
    "plt.subplot(1, 4, 1)\n",
    "plt.boxplot(quality_wine['chlorides'])\n",
    "plt.title(\"Chlorides\")\n",
    "plt.xlabel('Quality ')\n",
    "plt.ylabel(' amount of salt in wine ')\n",
    "plt.ylim([0, 0.6])\n",
    "\n",
    "plt.subplot(1, 4, 2)\n",
    "plt.boxplot(unquality_wine['chlorides'])\n",
    "plt.xlabel('Unquality ')\n",
    "plt.ylim([0, 0.6])\n",
    "\n",
    "\n",
    "plt.subplot(1, 4, 3)\n",
    "plt.boxplot(quality_wine['alcohol'])\n",
    "plt.title(\"Alcohol Content\")\n",
    "plt.xlabel('Quality ')\n",
    "plt.ylabel('Amount of Alcohol(%) ')\n",
    "plt.ylim([8, 15])\n",
    "\n",
    "\n",
    "plt.subplot(1, 4, 4)\n",
    "plt.boxplot(unquality_wine['alcohol'])\n",
    "plt.xlabel('Unquality ')\n",
    "plt.ylim([8, 15])\n",
    "\n",
    "plt.subplots_adjust(wspace=1)\n",
    "plt.show()"
   ]
  },
  {
   "cell_type": "markdown",
   "metadata": {},
   "source": [
    "From simple observation we see that unquality wines tended to have more extrema values in chlorides, indicating that saltier wines were favored less in quality. Now if we peer over at Alcohol Content, it is quite obvious that a higher alcohol content is favored. Those wines with a high alcohol content were more likely to be deemed quality."
   ]
  },
  {
   "cell_type": "markdown",
   "metadata": {},
   "source": [
    "## Why didnt I graph density, pH, and sulphates?\n",
    "   - Firstly, density is a product of sugar and alcohol content so by viewing both sugar and alcohol we indirectly viewed density. pH is again a product of the level of base and acidity, and we viewed many acidic properties allready. Finally, sulphates is just a combined Free and Total Sulfure Dioxide analysis, analyzing these seperatly was more interesting."
   ]
  },
  {
   "cell_type": "markdown",
   "metadata": {},
   "source": [
    "### Now I want to make a data frame of only the visually significant chemical parameters."
   ]
  },
  {
   "cell_type": "code",
   "execution_count": 58,
   "metadata": {},
   "outputs": [
    {
     "data": {
      "text/html": [
       "<div>\n",
       "<style scoped>\n",
       "    .dataframe tbody tr th:only-of-type {\n",
       "        vertical-align: middle;\n",
       "    }\n",
       "\n",
       "    .dataframe tbody tr th {\n",
       "        vertical-align: top;\n",
       "    }\n",
       "\n",
       "    .dataframe thead th {\n",
       "        text-align: right;\n",
       "    }\n",
       "</style>\n",
       "<table border=\"1\" class=\"dataframe\">\n",
       "  <thead>\n",
       "    <tr style=\"text-align: right;\">\n",
       "      <th></th>\n",
       "      <th>volatile acidity</th>\n",
       "      <th>citric acid</th>\n",
       "      <th>chlorides</th>\n",
       "      <th>free sulfur dioxide</th>\n",
       "      <th>total sulfur dioxide</th>\n",
       "      <th>alcohol</th>\n",
       "      <th>quality</th>\n",
       "      <th>quality_binary</th>\n",
       "    </tr>\n",
       "  </thead>\n",
       "  <tbody>\n",
       "    <tr>\n",
       "      <th>0</th>\n",
       "      <td>0.70</td>\n",
       "      <td>0.00</td>\n",
       "      <td>0.076</td>\n",
       "      <td>11.0</td>\n",
       "      <td>34.0</td>\n",
       "      <td>9.4</td>\n",
       "      <td>5</td>\n",
       "      <td>0</td>\n",
       "    </tr>\n",
       "    <tr>\n",
       "      <th>1</th>\n",
       "      <td>0.88</td>\n",
       "      <td>0.00</td>\n",
       "      <td>0.098</td>\n",
       "      <td>25.0</td>\n",
       "      <td>67.0</td>\n",
       "      <td>9.8</td>\n",
       "      <td>5</td>\n",
       "      <td>0</td>\n",
       "    </tr>\n",
       "    <tr>\n",
       "      <th>2</th>\n",
       "      <td>0.76</td>\n",
       "      <td>0.04</td>\n",
       "      <td>0.092</td>\n",
       "      <td>15.0</td>\n",
       "      <td>54.0</td>\n",
       "      <td>9.8</td>\n",
       "      <td>5</td>\n",
       "      <td>0</td>\n",
       "    </tr>\n",
       "    <tr>\n",
       "      <th>3</th>\n",
       "      <td>0.28</td>\n",
       "      <td>0.56</td>\n",
       "      <td>0.075</td>\n",
       "      <td>17.0</td>\n",
       "      <td>60.0</td>\n",
       "      <td>9.8</td>\n",
       "      <td>6</td>\n",
       "      <td>1</td>\n",
       "    </tr>\n",
       "    <tr>\n",
       "      <th>4</th>\n",
       "      <td>0.70</td>\n",
       "      <td>0.00</td>\n",
       "      <td>0.076</td>\n",
       "      <td>11.0</td>\n",
       "      <td>34.0</td>\n",
       "      <td>9.4</td>\n",
       "      <td>5</td>\n",
       "      <td>0</td>\n",
       "    </tr>\n",
       "  </tbody>\n",
       "</table>\n",
       "</div>"
      ],
      "text/plain": [
       "   volatile acidity  citric acid  chlorides  free sulfur dioxide  \\\n",
       "0              0.70         0.00      0.076                 11.0   \n",
       "1              0.88         0.00      0.098                 25.0   \n",
       "2              0.76         0.04      0.092                 15.0   \n",
       "3              0.28         0.56      0.075                 17.0   \n",
       "4              0.70         0.00      0.076                 11.0   \n",
       "\n",
       "   total sulfur dioxide  alcohol  quality  quality_binary  \n",
       "0                  34.0      9.4        5               0  \n",
       "1                  67.0      9.8        5               0  \n",
       "2                  54.0      9.8        5               0  \n",
       "3                  60.0      9.8        6               1  \n",
       "4                  34.0      9.4        5               0  "
      ]
     },
     "execution_count": 58,
     "metadata": {},
     "output_type": "execute_result"
    }
   ],
   "source": [
    "wine_sig=wine.drop(['density', 'pH','sulphates','fixed acidity','residual sugar'], axis = 1)\n",
    "wine_sig.head()"
   ]
  },
  {
   "cell_type": "markdown",
   "metadata": {},
   "source": [
    "## Now we can examine the signifcant markers more closely\n",
    "- Here I ran a simple group by quality to examine the means of significant markers."
   ]
  },
  {
   "cell_type": "code",
   "execution_count": 59,
   "metadata": {},
   "outputs": [
    {
     "data": {
      "text/html": [
       "<div>\n",
       "<style scoped>\n",
       "    .dataframe tbody tr th:only-of-type {\n",
       "        vertical-align: middle;\n",
       "    }\n",
       "\n",
       "    .dataframe tbody tr th {\n",
       "        vertical-align: top;\n",
       "    }\n",
       "\n",
       "    .dataframe thead th {\n",
       "        text-align: right;\n",
       "    }\n",
       "</style>\n",
       "<table border=\"1\" class=\"dataframe\">\n",
       "  <thead>\n",
       "    <tr style=\"text-align: right;\">\n",
       "      <th></th>\n",
       "      <th>volatile acidity</th>\n",
       "      <th>citric acid</th>\n",
       "      <th>chlorides</th>\n",
       "      <th>free sulfur dioxide</th>\n",
       "      <th>total sulfur dioxide</th>\n",
       "      <th>alcohol</th>\n",
       "      <th>quality</th>\n",
       "    </tr>\n",
       "    <tr>\n",
       "      <th>quality_binary</th>\n",
       "      <th></th>\n",
       "      <th></th>\n",
       "      <th></th>\n",
       "      <th></th>\n",
       "      <th></th>\n",
       "      <th></th>\n",
       "      <th></th>\n",
       "    </tr>\n",
       "  </thead>\n",
       "  <tbody>\n",
       "    <tr>\n",
       "      <th>0</th>\n",
       "      <td>0.589503</td>\n",
       "      <td>0.237755</td>\n",
       "      <td>0.092989</td>\n",
       "      <td>16.567204</td>\n",
       "      <td>54.645161</td>\n",
       "      <td>9.926478</td>\n",
       "      <td>4.901882</td>\n",
       "    </tr>\n",
       "    <tr>\n",
       "      <th>1</th>\n",
       "      <td>0.474146</td>\n",
       "      <td>0.299883</td>\n",
       "      <td>0.082661</td>\n",
       "      <td>15.272515</td>\n",
       "      <td>39.352047</td>\n",
       "      <td>10.855029</td>\n",
       "      <td>6.274854</td>\n",
       "    </tr>\n",
       "  </tbody>\n",
       "</table>\n",
       "</div>"
      ],
      "text/plain": [
       "                volatile acidity  citric acid  chlorides  free sulfur dioxide  \\\n",
       "quality_binary                                                                  \n",
       "0                       0.589503     0.237755   0.092989            16.567204   \n",
       "1                       0.474146     0.299883   0.082661            15.272515   \n",
       "\n",
       "                total sulfur dioxide    alcohol   quality  \n",
       "quality_binary                                             \n",
       "0                          54.645161   9.926478  4.901882  \n",
       "1                          39.352047  10.855029  6.274854  "
      ]
     },
     "execution_count": 59,
     "metadata": {},
     "output_type": "execute_result"
    }
   ],
   "source": [
    "sig_mean=wine_sig.groupby(['quality_binary']).mean()\n",
    "sig_mean"
   ]
  },
  {
   "cell_type": "markdown",
   "metadata": {},
   "source": [
    "## Examining Extrema\n",
    " - At first I was interested in examining the maximum values of each of these categories."
   ]
  },
  {
   "cell_type": "code",
   "execution_count": 60,
   "metadata": {},
   "outputs": [
    {
     "data": {
      "text/html": [
       "<div>\n",
       "<style scoped>\n",
       "    .dataframe tbody tr th:only-of-type {\n",
       "        vertical-align: middle;\n",
       "    }\n",
       "\n",
       "    .dataframe tbody tr th {\n",
       "        vertical-align: top;\n",
       "    }\n",
       "\n",
       "    .dataframe thead th {\n",
       "        text-align: right;\n",
       "    }\n",
       "</style>\n",
       "<table border=\"1\" class=\"dataframe\">\n",
       "  <thead>\n",
       "    <tr style=\"text-align: right;\">\n",
       "      <th></th>\n",
       "      <th>volatile acidity</th>\n",
       "      <th>citric acid</th>\n",
       "      <th>chlorides</th>\n",
       "      <th>free sulfur dioxide</th>\n",
       "      <th>total sulfur dioxide</th>\n",
       "      <th>alcohol</th>\n",
       "      <th>quality</th>\n",
       "    </tr>\n",
       "    <tr>\n",
       "      <th>quality_binary</th>\n",
       "      <th></th>\n",
       "      <th></th>\n",
       "      <th></th>\n",
       "      <th></th>\n",
       "      <th></th>\n",
       "      <th></th>\n",
       "      <th></th>\n",
       "    </tr>\n",
       "  </thead>\n",
       "  <tbody>\n",
       "    <tr>\n",
       "      <th>0</th>\n",
       "      <td>1.58</td>\n",
       "      <td>1.00</td>\n",
       "      <td>0.611</td>\n",
       "      <td>68.0</td>\n",
       "      <td>155.0</td>\n",
       "      <td>14.9</td>\n",
       "      <td>5</td>\n",
       "    </tr>\n",
       "    <tr>\n",
       "      <th>1</th>\n",
       "      <td>1.04</td>\n",
       "      <td>0.78</td>\n",
       "      <td>0.415</td>\n",
       "      <td>72.0</td>\n",
       "      <td>289.0</td>\n",
       "      <td>14.0</td>\n",
       "      <td>8</td>\n",
       "    </tr>\n",
       "  </tbody>\n",
       "</table>\n",
       "</div>"
      ],
      "text/plain": [
       "                volatile acidity  citric acid  chlorides  free sulfur dioxide  \\\n",
       "quality_binary                                                                  \n",
       "0                           1.58         1.00      0.611                 68.0   \n",
       "1                           1.04         0.78      0.415                 72.0   \n",
       "\n",
       "                total sulfur dioxide  alcohol  quality  \n",
       "quality_binary                                          \n",
       "0                              155.0     14.9        5  \n",
       "1                              289.0     14.0        8  "
      ]
     },
     "execution_count": 60,
     "metadata": {},
     "output_type": "execute_result"
    }
   ],
   "source": [
    "sig_max=wine_sig.groupby(['quality_binary']).max()\n",
    "sig_max"
   ]
  },
  {
   "cell_type": "markdown",
   "metadata": {},
   "source": [
    "Now at first this was interesting because a lot of these max values seemed to condradict our visual suggestions on whether high or low paremters produced more quality wines."
   ]
  },
  {
   "cell_type": "markdown",
   "metadata": {},
   "source": [
    "## So I will now look at top 5 highest values and bottom 5 lowest values of each parameter.\n",
    "\n",
    "### Volatile Acid"
   ]
  },
  {
   "cell_type": "code",
   "execution_count": 61,
   "metadata": {},
   "outputs": [
    {
     "name": "stdout",
     "output_type": "stream",
     "text": [
      "Top 5 values for volatile acid: \n",
      "       volatile acidity  quality_binary\n",
      "1299             1.580               0\n",
      "126              1.330               0\n",
      "127              1.330               0\n",
      "672              1.240               0\n",
      "690              1.185               0\n",
      "\n",
      "Lowest 5 values for volatile acid: \n",
      "       volatile acidity  quality_binary\n",
      "948               0.12               1\n",
      "949               0.12               1\n",
      "950               0.12               1\n",
      "1286              0.16               1\n",
      "1566              0.16               1\n"
     ]
    }
   ],
   "source": [
    "vol_acid_large=wine_sig.nlargest(5, ['volatile acidity'])[['volatile acidity','quality_binary']]\n",
    "vol_acid_small=wine_sig.nsmallest(5, ['volatile acidity'])[['volatile acidity','quality_binary']]\n",
    "\n",
    "print(\"Top 5 values for volatile acid: \\n\", vol_acid_large.head())\n",
    "print(\"\\nLowest 5 values for volatile acid: \\n\", vol_acid_small.head())"
   ]
  },
  {
   "cell_type": "markdown",
   "metadata": {},
   "source": [
    "What is so interesting about this is all of the top 5 volatile acid entries all were deemed unquality wines, meanwhile all the 5 lowest volatile acid entries were deemed quality wines."
   ]
  },
  {
   "cell_type": "markdown",
   "metadata": {},
   "source": [
    "### Citric Acid \n"
   ]
  },
  {
   "cell_type": "code",
   "execution_count": 62,
   "metadata": {},
   "outputs": [
    {
     "name": "stdout",
     "output_type": "stream",
     "text": [
      "Top 5 values for citric acid: \n",
      "       citric acid  quality_binary\n",
      "151          1.00               0\n",
      "353          0.79               0\n",
      "1574         0.78               1\n",
      "258          0.76               0\n",
      "395          0.76               1\n",
      "\n",
      "Lowest 5 values for citric acid: \n",
      "    citric acid  quality_binary\n",
      "0          0.0               0\n",
      "1          0.0               0\n",
      "4          0.0               0\n",
      "5          0.0               0\n",
      "7          0.0               1\n"
     ]
    }
   ],
   "source": [
    "cit_acid_large=wine_sig.nlargest(5, ['citric acid'])[['citric acid','quality_binary']]\n",
    "cit_acid_small=wine_sig.nsmallest(5, ['citric acid'])[['citric acid','quality_binary']]\n",
    "\n",
    "print(\"Top 5 values for citric acid: \\n\", cit_acid_large.head())\n",
    "print(\"\\nLowest 5 values for citric acid: \\n\", cit_acid_small.head())"
   ]
  },
  {
   "cell_type": "markdown",
   "metadata": {},
   "source": [
    "Now this is a little harder to interpret; however, we see that only one of the lowest entries with 0 citric acid was considered quality. Suggesting that citric acid is an important component in red wine; however, not too much.\n",
    "\n",
    "### Chlorides\n"
   ]
  },
  {
   "cell_type": "code",
   "execution_count": 63,
   "metadata": {},
   "outputs": [
    {
     "name": "stdout",
     "output_type": "stream",
     "text": [
      "Top 5 values for chlorides: \n",
      "      chlorides  quality_binary\n",
      "258      0.611               0\n",
      "151      0.610               0\n",
      "106      0.467               0\n",
      "81       0.464               0\n",
      "692      0.422               0\n",
      "\n",
      "Lowest 5 values for chlorides: \n",
      "       chlorides  quality_binary\n",
      "836       0.012               1\n",
      "837       0.012               1\n",
      "695       0.034               1\n",
      "797       0.038               1\n",
      "1571      0.038               1\n"
     ]
    }
   ],
   "source": [
    "chl_large=wine_sig.nlargest(5, ['chlorides'])[['chlorides','quality_binary']]\n",
    "chl_small=wine_sig.nsmallest(5, ['chlorides'])[['chlorides','quality_binary']]\n",
    "\n",
    "print(\"Top 5 values for chlorides: \\n\", chl_large.head())\n",
    "print(\"\\nLowest 5 values for chlorides: \\n\", chl_small.head())"
   ]
  },
  {
   "cell_type": "markdown",
   "metadata": {},
   "source": [
    "Super interesting again we see none of the high chloride entries were deemed quality, contrasting all of the low value chlorides who were deemed quality. Salty wines will never be considered quality.\n",
    "\n",
    "### Free Sulfur Dioxide"
   ]
  },
  {
   "cell_type": "code",
   "execution_count": 64,
   "metadata": {},
   "outputs": [
    {
     "name": "stdout",
     "output_type": "stream",
     "text": [
      "Top 5 values for free sulfur dioxide: \n",
      "       free sulfur dioxide  quality_binary\n",
      "1244                 72.0               1\n",
      "396                  68.0               0\n",
      "400                  68.0               0\n",
      "1558                 66.0               0\n",
      "1131                 57.0               0\n",
      "\n",
      "Lowest 5 values for free sulfur dioxide: \n",
      "      free sulfur dioxide  quality_binary\n",
      "530                  1.0               1\n",
      "535                  1.0               1\n",
      "773                  1.0               1\n",
      "774                  2.0               1\n",
      "36                   3.0               1\n"
     ]
    }
   ],
   "source": [
    "fSO2_large=wine_sig.nlargest(5, ['free sulfur dioxide'])[['free sulfur dioxide','quality_binary']]\n",
    "fSO2_small=wine_sig.nsmallest(5, ['free sulfur dioxide'])[['free sulfur dioxide','quality_binary']]\n",
    "\n",
    "print(\"Top 5 values for free sulfur dioxide: \\n\", fSO2_large.head())\n",
    "print(\"\\nLowest 5 values for free sulfur dioxide: \\n\", fSO2_small.head())"
   ]
  },
  {
   "cell_type": "markdown",
   "metadata": {},
   "source": [
    "Again among all of the lowest entries of free sulfur dioxide we see that all of them are deemed quality, when among the highest entries only one of them is deemed quality. Leading me to believe low free S02 indicates a quality wine.\n",
    "\n",
    "### Total Sulfur Dioxide"
   ]
  },
  {
   "cell_type": "code",
   "execution_count": 65,
   "metadata": {},
   "outputs": [
    {
     "name": "stdout",
     "output_type": "stream",
     "text": [
      "Top 5 values for total sulfur dioxide: \n",
      "       total sulfur dioxide  quality_binary\n",
      "1081                 289.0               1\n",
      "1079                 278.0               1\n",
      "354                  165.0               1\n",
      "1244                 160.0               1\n",
      "651                  155.0               0\n",
      "\n",
      "Lowest 5 values for total sulfur dioxide: \n",
      "      total sulfur dioxide  quality_binary\n",
      "915                   6.0               1\n",
      "979                   6.0               0\n",
      "984                   6.0               0\n",
      "813                   7.0               0\n",
      "986                   7.0               1\n"
     ]
    }
   ],
   "source": [
    "tSO2_large=wine_sig.nlargest(5, ['total sulfur dioxide'])[['total sulfur dioxide','quality_binary']]\n",
    "tSO2_small=wine_sig.nsmallest(5, ['total sulfur dioxide'])[['total sulfur dioxide','quality_binary']]\n",
    "\n",
    "print(\"Top 5 values for total sulfur dioxide: \\n\", tSO2_large.head())\n",
    "print(\"\\nLowest 5 values for total sulfur dioxide: \\n\", tSO2_small.head())"
   ]
  },
  {
   "cell_type": "markdown",
   "metadata": {},
   "source": [
    "Again an interesting trend almost opposing what we saw in the Free sulfur dioxide model that wines with a high total sulfur dioxide level were deemed quality, while only a few of the lowest total sulfur dioxide entries were deemed quality.\n",
    "\n",
    "### Alcohol"
   ]
  },
  {
   "cell_type": "code",
   "execution_count": 66,
   "metadata": {},
   "outputs": [
    {
     "name": "stdout",
     "output_type": "stream",
     "text": [
      "Top 5 values for alcohol: \n",
      "      alcohol  quality_binary\n",
      "652     14.9               0\n",
      "142     14.0               1\n",
      "144     14.0               1\n",
      "467     14.0               1\n",
      "588     14.0               1\n",
      "\n",
      "Lowest 5 values for alcohol: \n",
      "       alcohol  quality_binary\n",
      "517       8.4               0\n",
      "544       8.4               1\n",
      "1436      8.5               0\n",
      "371       8.7               1\n",
      "528       8.7               1\n"
     ]
    }
   ],
   "source": [
    "alc_large=wine_sig.nlargest(5, ['alcohol'])[['alcohol','quality_binary']]\n",
    "alc_small=wine_sig.nsmallest(5, ['alcohol'])[['alcohol','quality_binary']]\n",
    "\n",
    "print(\"Top 5 values for alcohol: \\n\", alc_large.head())\n",
    "print(\"\\nLowest 5 values for alcohol: \\n\", alc_small.head())"
   ]
  },
  {
   "cell_type": "markdown",
   "metadata": {},
   "source": [
    "Unfortunatly, the extrema in the alcohol percentage scenario does not provide much insight into the data. It does appear that generally higher percentage alcohol content is more regularly deemed quality."
   ]
  },
  {
   "cell_type": "markdown",
   "metadata": {},
   "source": [
    "# Exploratory Conclusion\n",
    "Now after performing this analysis, as a 21 year old I feel much more equiped to handle red wine and speak informativly about it. I am only kidding, I don't think this analysis transitioned into anything practical. However, it was very interesting to observe properties of wine that may detirmine to what extent a wine is deemed quality. In this project we detirmined that volatile acidity, citric acid, chlorides, free sulfur dioxide, total sulfur dioxide, and alcohol were effective detirminents of quality of wine. Less effective detirminents seemed to be fixed acidity and residual sugar. It was difficult to detirmine what marker was most effective at detirmining a quality of wine without running a regression; however, if I had to guess visually it appears that alcohol had a strong seperation. This data is perfect to perform a classification calculation on which is what I'll be doing now. Though it was not perfect, I believe now chemically we understand much better what makes a wine quality."
   ]
  },
  {
   "cell_type": "markdown",
   "metadata": {},
   "source": [
    "# SVM Classification\n",
    "\n",
    "### More Data Preprocessing and Feature Engineering for Support Vectors"
   ]
  },
  {
   "cell_type": "code",
   "execution_count": 67,
   "metadata": {},
   "outputs": [
    {
     "data": {
      "text/html": [
       "<div>\n",
       "<style scoped>\n",
       "    .dataframe tbody tr th:only-of-type {\n",
       "        vertical-align: middle;\n",
       "    }\n",
       "\n",
       "    .dataframe tbody tr th {\n",
       "        vertical-align: top;\n",
       "    }\n",
       "\n",
       "    .dataframe thead th {\n",
       "        text-align: right;\n",
       "    }\n",
       "</style>\n",
       "<table border=\"1\" class=\"dataframe\">\n",
       "  <thead>\n",
       "    <tr style=\"text-align: right;\">\n",
       "      <th></th>\n",
       "      <th>volatile acidity</th>\n",
       "      <th>citric acid</th>\n",
       "      <th>chlorides</th>\n",
       "      <th>free sulfur dioxide</th>\n",
       "      <th>total sulfur dioxide</th>\n",
       "      <th>alcohol</th>\n",
       "    </tr>\n",
       "  </thead>\n",
       "  <tbody>\n",
       "    <tr>\n",
       "      <th>0</th>\n",
       "      <td>0.70</td>\n",
       "      <td>0.00</td>\n",
       "      <td>0.076</td>\n",
       "      <td>11.0</td>\n",
       "      <td>34.0</td>\n",
       "      <td>9.4</td>\n",
       "    </tr>\n",
       "    <tr>\n",
       "      <th>1</th>\n",
       "      <td>0.88</td>\n",
       "      <td>0.00</td>\n",
       "      <td>0.098</td>\n",
       "      <td>25.0</td>\n",
       "      <td>67.0</td>\n",
       "      <td>9.8</td>\n",
       "    </tr>\n",
       "    <tr>\n",
       "      <th>2</th>\n",
       "      <td>0.76</td>\n",
       "      <td>0.04</td>\n",
       "      <td>0.092</td>\n",
       "      <td>15.0</td>\n",
       "      <td>54.0</td>\n",
       "      <td>9.8</td>\n",
       "    </tr>\n",
       "    <tr>\n",
       "      <th>3</th>\n",
       "      <td>0.28</td>\n",
       "      <td>0.56</td>\n",
       "      <td>0.075</td>\n",
       "      <td>17.0</td>\n",
       "      <td>60.0</td>\n",
       "      <td>9.8</td>\n",
       "    </tr>\n",
       "    <tr>\n",
       "      <th>4</th>\n",
       "      <td>0.70</td>\n",
       "      <td>0.00</td>\n",
       "      <td>0.076</td>\n",
       "      <td>11.0</td>\n",
       "      <td>34.0</td>\n",
       "      <td>9.4</td>\n",
       "    </tr>\n",
       "  </tbody>\n",
       "</table>\n",
       "</div>"
      ],
      "text/plain": [
       "   volatile acidity  citric acid  chlorides  free sulfur dioxide  \\\n",
       "0              0.70         0.00      0.076                 11.0   \n",
       "1              0.88         0.00      0.098                 25.0   \n",
       "2              0.76         0.04      0.092                 15.0   \n",
       "3              0.28         0.56      0.075                 17.0   \n",
       "4              0.70         0.00      0.076                 11.0   \n",
       "\n",
       "   total sulfur dioxide  alcohol  \n",
       "0                  34.0      9.4  \n",
       "1                  67.0      9.8  \n",
       "2                  54.0      9.8  \n",
       "3                  60.0      9.8  \n",
       "4                  34.0      9.4  "
      ]
     },
     "execution_count": 67,
     "metadata": {},
     "output_type": "execute_result"
    }
   ],
   "source": [
    "wine_sig=wine_sig.drop(['quality'], axis = 1)\n",
    "y=wine_sig.loc[:,'quality_binary']\n",
    "x=wine_sig\n",
    "x=x.drop(['quality_binary'], axis = 1)\n",
    "x.head()"
   ]
  },
  {
   "cell_type": "markdown",
   "metadata": {},
   "source": [
    "## Modeling and Accuracy Evaluation"
   ]
  },
  {
   "cell_type": "code",
   "execution_count": 68,
   "metadata": {},
   "outputs": [],
   "source": [
    "x_train, x_test, y_train, y_test = train_test_split(x, y, test_size=0.2, random_state=0)"
   ]
  },
  {
   "cell_type": "code",
   "execution_count": 69,
   "metadata": {},
   "outputs": [
    {
     "name": "stdout",
     "output_type": "stream",
     "text": [
      "The prediction accuracy under kernel linear is 0.759375\n",
      "The prediction accuracy under kernel poly is 0.746875\n",
      "The prediction accuracy under kernel rbf is 0.737500\n",
      "The prediction accuracy under kernel sigmoid is 0.537500\n"
     ]
    }
   ],
   "source": [
    "Kernel= [\"linear\", \"poly\",\"rbf\",\"sigmoid\"]\n",
    "for kernel in Kernel:\n",
    "    clf=SVC(kernel=kernel,\n",
    "           gamma=\"auto\",\n",
    "           degree=1,\n",
    "           cache_size=5000).fit(x_train,y_train)\n",
    "    print(\"The prediction accuracy under kernel %s is %f\" % (kernel, clf.score(x_test,y_test)))"
   ]
  },
  {
   "cell_type": "markdown",
   "metadata": {},
   "source": [
    "##### The prediction accuracy under linear kernel is 75.9%, thats fairly accurate."
   ]
  },
  {
   "cell_type": "code",
   "execution_count": 71,
   "metadata": {},
   "outputs": [
    {
     "name": "stdout",
     "output_type": "stream",
     "text": [
      "Test Accuracy:  0.715625\n"
     ]
    }
   ],
   "source": [
    "svmcl = SVC(kernel=\"linear\",gamma=0.03, coef0=0.0, C=0.03, probability= True)\n",
    "svmcl.fit(x_train, y_train)\n",
    "pred_test=svmcl.predict(x_test)\n",
    "print(\"Test Accuracy: \", metrics.accuracy_score(y_test, pred_test))"
   ]
  },
  {
   "cell_type": "markdown",
   "metadata": {},
   "source": [
    "# SVM Classification Conclusion\n",
    "\n",
    "Linear, Poly, and RBF kernel performed rather well in the SVM classification. This means that using all the significant markers included using either the linear kernel or the poly kernel the SVM model would be able to accurately predict, up to 75.9% of the time, whether a wine is deemed quality or not. Some other methods we could potentially employ are KNN or Random Forest. To improve I would explore several other models to detirmine accuracy but it appears this SVM model is a great predictor."
   ]
  },
  {
   "cell_type": "code",
   "execution_count": null,
   "metadata": {},
   "outputs": [],
   "source": []
  },
  {
   "cell_type": "code",
   "execution_count": null,
   "metadata": {},
   "outputs": [],
   "source": []
  },
  {
   "cell_type": "code",
   "execution_count": null,
   "metadata": {},
   "outputs": [],
   "source": []
  }
 ],
 "metadata": {
  "kernelspec": {
   "display_name": "Python 3",
   "language": "python",
   "name": "python3"
  },
  "language_info": {
   "codemirror_mode": {
    "name": "ipython",
    "version": 3
   },
   "file_extension": ".py",
   "mimetype": "text/x-python",
   "name": "python",
   "nbconvert_exporter": "python",
   "pygments_lexer": "ipython3",
   "version": "3.8.5"
  }
 },
 "nbformat": 4,
 "nbformat_minor": 4
}
